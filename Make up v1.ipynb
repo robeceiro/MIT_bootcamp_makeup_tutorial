{
 "cells": [
  {
   "cell_type": "markdown",
   "metadata": {},
   "source": [
    "# Make up v1"
   ]
  },
  {
   "cell_type": "markdown",
   "metadata": {},
   "source": [
    "Referencia: https://www.pyimagesearch.com/2017/04/17/real-time-facial-landmark-detection-opencv-python-dlib/"
   ]
  },
  {
   "cell_type": "markdown",
   "metadata": {},
   "source": [
    "## Part 3"
   ]
  },
  {
   "cell_type": "code",
   "execution_count": null,
   "metadata": {},
   "outputs": [],
   "source": [
    "# import the necessary packages\n",
    "from imutils.video import VideoStream\n",
    "from imutils import face_utils\n",
    "import datetime\n",
    "import argparse\n",
    "import imutils\n",
    "import time\n",
    "import dlib\n",
    "import cv2\n",
    "\n",
    "args = {}\n",
    "args[\"shape_predictor\"] = \"shape_predictor_68_face_landmarks.dat\"\n",
    "args[\"picamera\"] = 0\n",
    "\n",
    "# initialize dlib's face detector (HOG-based) and then create\n",
    "# the facial landmark predictor\n",
    "print(\"[INFO] loading facial landmark predictor...\")\n",
    "detector = dlib.get_frontal_face_detector()\n",
    "predictor = dlib.shape_predictor(args[\"shape_predictor\"])\n",
    "\n",
    "# initialize the video stream and allow the cammera sensor to warmup\n",
    "print(\"[INFO] camera sensor warming up...\")\n",
    "vs = VideoStream(usePiCamera=args[\"picamera\"] > 0).start()\n",
    "time.sleep(2.0)"
   ]
  },
  {
   "cell_type": "code",
   "execution_count": null,
   "metadata": {
    "collapsed": true
   },
   "outputs": [],
   "source": [
    "def visualize_facial_landmarks(image, shape, colors=None, alpha=0.8):\n",
    "    # create two copies of the input image -- one for the\n",
    "    # overlay and one for the final output image\n",
    "    overlay = image.copy()\n",
    "    output = image.copy()\n",
    "    height,width,channels = image.shape\n",
    "    # if the colors list is None, initialize it with a unique\n",
    "    # color for each facial landmark region\n",
    "    if colors is None:\n",
    "        colors = [(19, 199, 109), (79, 76, 240), (230, 159, 23),\n",
    "            (168, 100, 168), (158, 163, 32),\n",
    "            (163, 38, 32), (180, 42, 220)]\n",
    "    # loop over the facial landmark regions individually\n",
    "    for (i, name) in enumerate(FACIAL_LANDMARKS_IDXS.keys()):\n",
    "        # grab the (x, y)-coordinates associated with the\n",
    "        # face landmark\n",
    "        (j, k) = FACIAL_LANDMARKS_IDXS[name]\n",
    "        pts = shape[j:k]\n",
    "\n",
    "        # check if are supposed to draw the jawline\n",
    "        if name == \"right_eyebrow\": # or name == \"left_eyebrow\" or name==\"mouth\":\n",
    "            # since the jawline is a non-enclosed facial region,\n",
    "            # just draw lines between the (x, y)-coordinates\n",
    "            text = 'Step 1: Paint your right eyebrown like this'\n",
    "            font = cv2.FONT_HERSHEY_SIMPLEX\n",
    "            \n",
    "            radius = 20\n",
    "            cv2.putText(overlay, text, (2*radius+5, height-10), font, 0.5, (255, 255, 0), 2)\n",
    "            cv2.circle(overlay,(radius,height-radius), radius, (0,0,255), -1)\n",
    "            for l in range(1, len(pts)):\n",
    "                ptA = tuple(pts[l - 1])\n",
    "                ptB = tuple(pts[l])\n",
    "                cv2.line(overlay, ptA, ptB, colors[i], 2)\n",
    "\n",
    "        # otherwise, compute the convex hull of the facial\n",
    "        # landmark coordinates points and display it\n",
    "        #else:\n",
    "        #    hull = cv2.convexHull(pts)\n",
    "        #    cv2.drawContours(overlay, [hull], -1, colors[i], -1)\n",
    "    # apply the transparent overlay\n",
    "    cv2.addWeighted(overlay, alpha, output, 1 - alpha, 0, output)\n",
    "\n",
    "    # return the output image\n",
    "    return output"
   ]
  },
  {
   "cell_type": "code",
   "execution_count": null,
   "metadata": {
    "collapsed": true
   },
   "outputs": [],
   "source": [
    "def makeup_step(new_name,color, image, shape, fill_shape, step_number, text,alpha=0.8):\n",
    "    overlay = image.copy()\n",
    "    output = image.copy()\n",
    "    radius = 20\n",
    "    height,width,channels = image.shape\n",
    "    for (i, name) in enumerate(FACIAL_LANDMARKS_IDXS.keys()):\n",
    "        (j, k) = FACIAL_LANDMARKS_IDXS[name]\n",
    "        pts = shape[j:k]\n",
    "        if name == new_name:\n",
    "            if fill_shape:\n",
    "                hull = cv2.convexHull(pts)\n",
    "                cv2.drawContours(overlay, [hull], -1, color, -1)\n",
    "            else:\n",
    "                for l in range(1, len(pts)):\n",
    "                    ptA = tuple(pts[l - 1])\n",
    "                    ptB = tuple(pts[l])\n",
    "                    cv2.line(overlay, ptA, ptB, color, 2)\n",
    "    cv2.rectangle(overlay,(2*radius,height-30),(250,height),(0,0,0),-1)\n",
    "    cv2.addWeighted(overlay, alpha, output, 1 - alpha, 0, output)\n",
    "    font = cv2.FONT_HERSHEY_SIMPLEX\n",
    "    cv2.circle(output,(radius,height-radius), radius, color, -1)\n",
    "    cv2.putText(output, text, (2*radius+5, height-10), font, 0.5, (255, 255, 255), 1)\n",
    "    # return the output image\n",
    "    return output\n",
    "    "
   ]
  },
  {
   "cell_type": "code",
   "execution_count": null,
   "metadata": {},
   "outputs": [],
   "source": [
    "from collections import OrderedDict\n",
    "STEPS = OrderedDict([\n",
    "    (3,\"mouth\"),\n",
    "    (1,\"right_eyebrow\"),\n",
    "    (2,\"left_eyebrow\"),\n",
    "    (6,\"right_eye\"),\n",
    "    (5,\"left_eye\"),\n",
    "    (4,\"nose\"),\n",
    "    (7,\"jaw\")\n",
    "])\n",
    "FACIAL_LANDMARKS_IDXS = OrderedDict([\n",
    "    (\"mouth\", (48, 68)),\n",
    "    (\"right_eyebrow\", (17, 22)),\n",
    "    (\"left_eyebrow\", (22, 27)),\n",
    "    (\"right_eye\", (36, 42)),\n",
    "    (\"left_eye\", (42, 48)),\n",
    "    (\"nose\", (27, 35)),\n",
    "    (\"jaw\", (0, 17))\n",
    "])\n",
    "default_color = (0,170,220)\n",
    "COLORS = OrderedDict([\n",
    "    (\"mouth\", (0, 200, 0)),\n",
    "    (\"right_eyebrow\", default_color),\n",
    "    (\"left_eyebrow\", default_color),\n",
    "    (\"right_eye\", default_color),\n",
    "    (\"left_eye\", default_color),\n",
    "    (\"nose\", default_color),\n",
    "    (\"jaw\", default_color)\n",
    "])\n",
    "TEXTS = OrderedDict([\n",
    "    (\"mouth\", \"L'Oreal Lipstick Mate N.68\"),\n",
    "    (\"right_eyebrow\", \"L'Oreal Eyeliner N.51\"),\n",
    "    (\"left_eyebrow\", \"L'Oreal Eyeliner N.51\"),\n",
    "    (\"right_eye\", \"L'Oreal Eyeliner N.51\"),\n",
    "    (\"left_eye\", \"L'Oreal Eyeliner N.51\"),\n",
    "    (\"nose\", \"L'Oreal Paris Infalible\"),\n",
    "    (\"jaw\", \"Powder\")\n",
    "])"
   ]
  },
  {
   "cell_type": "code",
   "execution_count": null,
   "metadata": {},
   "outputs": [],
   "source": [
    "current_step = 2\n",
    "while True:\n",
    "    frame = vs.read()\n",
    "    frame = imutils.resize(frame, width=600)\n",
    "    frame=cv2.flip(frame,1)\n",
    "    gray = cv2.cvtColor(frame, cv2.COLOR_BGR2GRAY)\n",
    "    output = frame.copy()\n",
    "    rects = detector(gray, 0)\n",
    "    for rect in rects:\n",
    "        shape = predictor(gray, rect)\n",
    "        shape = face_utils.shape_to_np(shape)\n",
    "        #output = visualize_facial_landmarks(frame, shape)\n",
    "        output = makeup_step(STEPS[current_step],COLORS[STEPS[current_step]], frame, shape, True,current_step,TEXTS[STEPS[current_step]],0.4)\n",
    "    cv2.imshow(\"Frame\", output)\n",
    "    key = cv2.waitKey(1) & 0xFF\n",
    "    if key == ord(\"q\"):\n",
    "        break"
   ]
  },
  {
   "cell_type": "code",
   "execution_count": null,
   "metadata": {
    "collapsed": true
   },
   "outputs": [],
   "source": [
    "cv2.destroyAllWindows()\n",
    "vs.stop()"
   ]
  },
  {
   "cell_type": "code",
   "execution_count": null,
   "metadata": {
    "collapsed": true
   },
   "outputs": [],
   "source": []
  }
 ],
 "metadata": {
  "kernelspec": {
   "display_name": "Python 3",
   "language": "python",
   "name": "python3"
  },
  "language_info": {
   "codemirror_mode": {
    "name": "ipython",
    "version": 3
   },
   "file_extension": ".py",
   "mimetype": "text/x-python",
   "name": "python",
   "nbconvert_exporter": "python",
   "pygments_lexer": "ipython3",
   "version": "3.6.3"
  }
 },
 "nbformat": 4,
 "nbformat_minor": 2
}
